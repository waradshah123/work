{
 "cells": [
  {
   "cell_type": "markdown",
   "metadata": {},
   "source": [
    "Exercise 3-1: Names\n"
   ]
  },
  {
   "cell_type": "code",
   "execution_count": 1,
   "metadata": {},
   "outputs": [
    {
     "name": "stdout",
     "output_type": "stream",
     "text": [
      "imam ali a.s\n",
      "imam hassan a.s\n",
      "imam hussain a.s\n",
      "imam ali ibn e hussain a.s\n"
     ]
    }
   ],
   "source": [
    "imam_names = [\"imam ali a.s\", \"imam hassan a.s\", \"imam hussain a.s\", \"imam ali ibn e hussain a.s\"]\n",
    "\n",
    "for name in imam_names:\n",
    "    print(name)\n"
   ]
  },
  {
   "cell_type": "markdown",
   "metadata": {},
   "source": [
    "Exercise 3-2: Greetings\n"
   ]
  },
  {
   "cell_type": "code",
   "execution_count": 2,
   "metadata": {},
   "outputs": [
    {
     "name": "stdout",
     "output_type": "stream",
     "text": [
      "assalam o alaikum, imam ali a.s! I am grateful to have you on my side.\n",
      "assalam o alaikum, imam hassan a.s! I am grateful to have you on my side.\n",
      "assalam o alaikum, imam hussain a.s! I am grateful to have you on my side.\n",
      "assalam o alaikum, imam ali ibn e hussain a.s! I am grateful to have you on my side.\n"
     ]
    }
   ],
   "source": [
    "imam_names = [\"imam ali a.s\", \"imam hassan a.s\", \"imam hussain a.s\", \"imam ali ibn e hussain a.s\"]\n",
    "\n",
    "for name in imam_names:\n",
    "    message = f\"assalam o alaikum, {name}! I am grateful to have you on my side.\"\n",
    "    print(message)\n"
   ]
  },
  {
   "cell_type": "markdown",
   "metadata": {},
   "source": [
    "Exercise 3-3: Your Own List\n"
   ]
  },
  {
   "cell_type": "code",
   "execution_count": 3,
   "metadata": {},
   "outputs": [
    {
     "name": "stdout",
     "output_type": "stream",
     "text": [
      "I want to own buggati.\n",
      "I want to own ferrari.\n",
      "I want to own porsche.\n",
      "I want to own lamborghini.\n"
     ]
    }
   ],
   "source": [
    "transport_names = [\"buggati\",\"ferrari\",\"porsche\",\"lamborghini\"]\n",
    "for name in transport_names:\n",
    "    ride = f\"I want to own {name}.\"\n",
    "    print(ride)"
   ]
  },
  {
   "cell_type": "markdown",
   "metadata": {},
   "source": [
    "Exercise 3-4: Guest List\n"
   ]
  },
  {
   "cell_type": "code",
   "execution_count": 4,
   "metadata": {},
   "outputs": [
    {
     "name": "stdout",
     "output_type": "stream",
     "text": [
      "assalam o alaikum hazrat muhammad saw! My master I wanted to add you to have dinner with us tonight. Please I will be waiting for you.\n",
      "assalam o alaikum imam e ali a.s! My master I wanted to add you to have dinner with us tonight. Please I will be waiting for you.\n",
      "assalam o alaikum bibi fatima zehra a.s! My master I wanted to add you to have dinner with us tonight. Please I will be waiting for you.\n",
      "assalam o alaikum imam e hassan a.s! My master I wanted to add you to have dinner with us tonight. Please I will be waiting for you.\n",
      "assalam o alaikum imam e hussain a.s! My master I wanted to add you to have dinner with us tonight. Please I will be waiting for you.\n"
     ]
    }
   ],
   "source": [
    "panjtan_e_pak_names =[\"hazrat muhammad saw\",\"imam e ali a.s\",\"bibi fatima zehra a.s\",\"imam e hassan a.s\",\"imam e hussain a.s\"]\n",
    "for name in panjtan_e_pak_names:\n",
    "    invite = f\"assalam o alaikum {name}! My master I wanted to add you to have dinner with us tonight. Please I will be waiting for you.\"\n",
    "    print (invite)"
   ]
  },
  {
   "cell_type": "markdown",
   "metadata": {},
   "source": [
    "Exercise 3-5: Changing Guest List\n"
   ]
  },
  {
   "cell_type": "code",
   "execution_count": 4,
   "metadata": {},
   "outputs": [
    {
     "name": "stdout",
     "output_type": "stream",
     "text": [
      "Unfortunately, fahar shah can't make it to the majlis.\n",
      "Unfortunately, mahad shah can't make it to the majlis.\n",
      "Unfortunately, konain shah can't make it to the majlis.\n"
     ]
    }
   ],
   "source": [
    "guest_list =[\"fahar shah\",\"mahad shah\",\"konain shah\",]\n",
    "for bhai in guest_list:\n",
    "    print(f\"Unfortunately, {bhai} can't make it to the majlis.\")\n"
   ]
  },
  {
   "cell_type": "markdown",
   "metadata": {},
   "source": [
    "Exercise 3-6: More Guests\n"
   ]
  },
  {
   "cell_type": "code",
   "execution_count": 6,
   "metadata": {},
   "outputs": [
    {
     "name": "stdout",
     "output_type": "stream",
     "text": [
      "Initial Invitations:\n",
      "Dear fahar shah, you are invited to the majlis!\n",
      "Dear mahad shah, you are invited to the majlis!\n",
      "Dear konain shah, you are invited to the majlis!\n",
      "\n",
      "Good news! We found a bigger table.\n",
      "\n",
      "Updated Invitations:\n",
      "Dear baba g, you are invited to the majlis!\n",
      "Dear fahar shah, you are invited to the majlis!\n",
      "Dear chacho g, you are invited to the majlis!\n",
      "Dear mahad shah, you are invited to the majlis!\n",
      "Dear konain shah, you are invited to the majlis!\n",
      "Dear abu g, you are invited to the majlis!\n"
     ]
    }
   ],
   "source": [
    "# Initial list of guests\n",
    "guest_list = [\"fahar shah\", \"mahad shah\", \"konain shah\"]\n",
    "\n",
    "# Send initial invitations\n",
    "print(\"Initial Invitations:\")\n",
    "for guest in guest_list:\n",
    "    message = f\"Dear {guest}, you are invited to the majlis!\"\n",
    "    print(message)\n",
    "\n",
    "# Inform that a bigger table has been found\n",
    "print(\"\\nGood news! We found a bigger table.\\n\")\n",
    "\n",
    "# Add new guests\n",
    "guest_list.insert(0, \"baba g\")  # Add a guest to the beginning\n",
    "guest_list.insert(len(guest_list) // 2, \"chacho g\")  # Add a guest to the middle\n",
    "guest_list.append(\"abu g\")  # Add a guest to the end\n",
    "\n",
    "# Print updated invitations\n",
    "print(\"Updated Invitations:\")\n",
    "for guest in guest_list:\n",
    "    message = f\"Dear {guest}, you are invited to the majlis!\"\n",
    "    print(message)\n"
   ]
  },
  {
   "cell_type": "markdown",
   "metadata": {},
   "source": [
    "Exercise 3-7: Shrinking Guest List\n"
   ]
  },
  {
   "cell_type": "code",
   "execution_count": 7,
   "metadata": {},
   "outputs": [
    {
     "name": "stdout",
     "output_type": "stream",
     "text": [
      "Sorry, I can only invite two people for dinner.\n",
      "\n",
      "Sorry, irtaza, we can't invite you to dinner.\n",
      "Sorry, mehdi raza, we can't invite you to dinner.\n",
      "Sorry, fawad, we can't invite you to dinner.\n",
      "Sorry, adli bhai, we can't invite you to dinner.\n",
      "ghufran, you are still invited to dinner.\n",
      "abdullah bhai, you are still invited to dinner.\n",
      "\n",
      "Final guest list: []\n"
     ]
    }
   ],
   "source": [
    "# Initial list of guests\n",
    "guest_list = [\"ghufran\", \"abdullah bhai\", \"adli bhai\", \"fawad\", \"mehdi raza\", \"irtaza\"]\n",
    "\n",
    "# Inform that only two people can be invited\n",
    "print(\"Sorry, I can only invite two people for dinner.\\n\")\n",
    "\n",
    "# Remove guests one at a time until only two remain\n",
    "while len(guest_list) > 2:\n",
    "    removed_guest = guest_list.pop()\n",
    "    print(f\"Sorry, {removed_guest}, we can't invite you to dinner.\")\n",
    "\n",
    "# Notify the remaining guests that they are still invited\n",
    "for guest in guest_list:\n",
    "    print(f\"{guest}, you are still invited to dinner.\")\n",
    "\n",
    "# Remove the last two guests to empty the list\n",
    "del guest_list[:]\n",
    "\n",
    "# Print the final list to ensure it's empty\n",
    "print(\"\\nFinal guest list:\", guest_list)\n"
   ]
  },
  {
   "cell_type": "markdown",
   "metadata": {},
   "source": [
    "Exercise 3-8: Seeing the World\n"
   ]
  },
  {
   "cell_type": "code",
   "execution_count": 8,
   "metadata": {},
   "outputs": [
    {
     "name": "stdout",
     "output_type": "stream",
     "text": [
      "Original list:\n",
      "['karbaala', 'najaf', 'madina', 'makkah', 'mashad']\n",
      "\n",
      "Alphabetical order:\n",
      "['karbaala', 'madina', 'makkah', 'mashad', 'najaf']\n",
      "\n",
      "Original list after sorted() call:\n",
      "['karbaala', 'najaf', 'madina', 'makkah', 'mashad']\n",
      "\n",
      "Reverse-alphabetical order:\n",
      "['najaf', 'mashad', 'makkah', 'madina', 'karbaala']\n",
      "\n",
      "Original list after reverse-sorted() call:\n",
      "['karbaala', 'najaf', 'madina', 'makkah', 'mashad']\n",
      "\n",
      "List after reverse() call:\n",
      "['mashad', 'makkah', 'madina', 'najaf', 'karbaala']\n",
      "\n",
      "List after reversing again:\n",
      "['karbaala', 'najaf', 'madina', 'makkah', 'mashad']\n",
      "\n",
      "List after sort() call:\n",
      "['karbaala', 'madina', 'makkah', 'mashad', 'najaf']\n",
      "\n",
      "List after sort(reverse=True) call:\n",
      "['najaf', 'mashad', 'makkah', 'madina', 'karbaala']\n"
     ]
    }
   ],
   "source": [
    "\n",
    "places_to_visit = [\"karbaala\", \"najaf\", \"madina\", \"makkah\", \"mashad\"]\n",
    "\n",
    "# Print the list in its original order\n",
    "print(\"Original list:\")\n",
    "print(places_to_visit)\n",
    "\n",
    "#  Print the list in alphabetical order without modifying the original list\n",
    "print(\"\\nAlphabetical order:\")\n",
    "print(sorted(places_to_visit))\n",
    "\n",
    "#  Show that the list is still in its original order\n",
    "print(\"\\nOriginal list after sorted() call:\")\n",
    "print(places_to_visit)\n",
    "\n",
    "#  Print the list in reverse-alphabetical order without modifying the original list\n",
    "print(\"\\nReverse-alphabetical order:\")\n",
    "print(sorted(places_to_visit, reverse=True))\n",
    "\n",
    "# Show that the list is still in its original order\n",
    "print(\"\\nOriginal list after reverse-sorted() call:\")\n",
    "print(places_to_visit)\n",
    "\n",
    "#  Reverse the order of the list\n",
    "places_to_visit.reverse()\n",
    "print(\"\\nList after reverse() call:\")\n",
    "print(places_to_visit)\n",
    "\n",
    "# Reverse the order of the list again to get back to the original order\n",
    "places_to_visit.reverse()\n",
    "print(\"\\nList after reversing again:\")\n",
    "print(places_to_visit)\n",
    "\n",
    "# Sort the list in alphabetical order using sort()\n",
    "places_to_visit.sort()\n",
    "print(\"\\nList after sort() call:\")\n",
    "print(places_to_visit)\n",
    "\n",
    "# Step 10: Sort the list in reverse-alphabetical order using sort(reverse=True)\n",
    "places_to_visit.sort(reverse=True)\n",
    "print(\"\\nList after sort(reverse=True) call:\")\n",
    "print(places_to_visit)\n"
   ]
  },
  {
   "cell_type": "markdown",
   "metadata": {},
   "source": [
    "Exercise 3-9: Every Function\n"
   ]
  },
  {
   "cell_type": "code",
   "execution_count": 9,
   "metadata": {},
   "outputs": [
    {
     "name": "stdout",
     "output_type": "stream",
     "text": [
      "Original list:\n",
      "['Japan', 'Canada', 'Australia', 'Brazil', 'South Africa']\n",
      "\n",
      "Alphabetical order (using sorted()):\n",
      "['Australia', 'Brazil', 'Canada', 'Japan', 'South Africa']\n",
      "\n",
      "Reverse-alphabetical order (using sorted(reverse=True)):\n",
      "['South Africa', 'Japan', 'Canada', 'Brazil', 'Australia']\n",
      "\n",
      "List after reverse() call:\n",
      "['South Africa', 'Brazil', 'Australia', 'Canada', 'Japan']\n",
      "\n",
      "List after sort() call:\n",
      "['Australia', 'Brazil', 'Canada', 'Japan', 'South Africa']\n",
      "\n",
      "List after append() call:\n",
      "['Australia', 'Brazil', 'Canada', 'Japan', 'South Africa', 'India']\n",
      "\n",
      "List after insert() call:\n",
      "['Australia', 'Brazil', 'Mexico', 'Canada', 'Japan', 'South Africa', 'India']\n",
      "\n",
      "Removed country (using pop()): India\n",
      "List after pop() call:\n",
      "['Australia', 'Brazil', 'Mexico', 'Canada', 'Japan', 'South Africa']\n",
      "\n",
      "Removed country (using remove()): Mexico\n",
      "List after remove() call:\n",
      "['Australia', 'Brazil', 'Canada', 'Japan', 'South Africa']\n",
      "\n",
      "List after del call (remove by index):\n",
      "['Australia', 'Canada', 'Japan', 'South Africa']\n",
      "\n",
      "List after clear() call:\n",
      "[]\n"
     ]
    }
   ],
   "source": [
    "# Step 1: Create a list of countries\n",
    "countries = [\"Japan\", \"Canada\", \"Australia\", \"Brazil\", \"South Africa\"]\n",
    "\n",
    "# Step 2: Print the original list\n",
    "print(\"Original list:\")\n",
    "print(countries)\n",
    "\n",
    "# Step 3: Use sorted() to print the list in alphabetical order without modifying the original list\n",
    "print(\"\\nAlphabetical order (using sorted()):\")\n",
    "print(sorted(countries))\n",
    "\n",
    "# Step 4: Use sorted(reverse=True) to print the list in reverse-alphabetical order without modifying the original list\n",
    "print(\"\\nReverse-alphabetical order (using sorted(reverse=True)):\")\n",
    "print(sorted(countries, reverse=True))\n",
    "\n",
    "# Step 5: Use reverse() to reverse the order of the list in place\n",
    "countries.reverse()\n",
    "print(\"\\nList after reverse() call:\")\n",
    "print(countries)\n",
    "\n",
    "# Step 6: Use sort() to sort the list in alphabetical order in place\n",
    "countries.sort()\n",
    "print(\"\\nList after sort() call:\")\n",
    "print(countries)\n",
    "\n",
    "# Step 7: Use append() to add a new country to the end of the list\n",
    "countries.append(\"India\")\n",
    "print(\"\\nList after append() call:\")\n",
    "print(countries)\n",
    "\n",
    "# Step 8: Use insert() to add a new country at a specific position\n",
    "countries.insert(2, \"Mexico\")\n",
    "print(\"\\nList after insert() call:\")\n",
    "print(countries)\n",
    "\n",
    "#Use pop() to remove the last country from the list and print a message\n",
    "removed_country = countries.pop()\n",
    "print(f\"\\nRemoved country (using pop()): {removed_country}\")\n",
    "print(\"List after pop() call:\")\n",
    "print(countries)\n",
    "\n",
    "#  Use remove() to remove a specific country from the list and print a message\n",
    "countries.remove(\"Mexico\")\n",
    "print(f\"\\nRemoved country (using remove()): Mexico\")\n",
    "print(\"List after remove() call:\")\n",
    "print(countries)\n",
    "\n",
    "#  Use del to remove a country from the list by index and print the modified list\n",
    "del countries[1]\n",
    "print(\"\\nList after del call (remove by index):\")\n",
    "print(countries)\n",
    "\n",
    "# Use clear() to empty the list and print it to ensure it's empty\n",
    "countries.clear()\n",
    "print(\"\\nList after clear() call:\")\n",
    "print(countries)\n"
   ]
  },
  {
   "cell_type": "markdown",
   "metadata": {},
   "source": [
    "Exercise 3-10: Intentional Error\n"
   ]
  },
  {
   "cell_type": "code",
   "execution_count": 10,
   "metadata": {},
   "outputs": [
    {
     "ename": "IndexError",
     "evalue": "list index out of range",
     "output_type": "error",
     "traceback": [
      "\u001b[1;31m---------------------------------------------------------------------------\u001b[0m",
      "\u001b[1;31mIndexError\u001b[0m                                Traceback (most recent call last)",
      "Cell \u001b[1;32mIn[10], line 2\u001b[0m\n\u001b[0;32m      1\u001b[0m fruits \u001b[38;5;241m=\u001b[39m [\u001b[38;5;124m\"\u001b[39m\u001b[38;5;124mapple\u001b[39m\u001b[38;5;124m\"\u001b[39m, \u001b[38;5;124m\"\u001b[39m\u001b[38;5;124mbanana\u001b[39m\u001b[38;5;124m\"\u001b[39m, \u001b[38;5;124m\"\u001b[39m\u001b[38;5;124mcherry\u001b[39m\u001b[38;5;124m\"\u001b[39m]\n\u001b[1;32m----> 2\u001b[0m \u001b[38;5;28mprint\u001b[39m(\u001b[43mfruits\u001b[49m\u001b[43m[\u001b[49m\u001b[38;5;241;43m6\u001b[39;49m\u001b[43m]\u001b[49m)\n",
      "\u001b[1;31mIndexError\u001b[0m: list index out of range"
     ]
    }
   ],
   "source": [
    "fruits = [\"apple\", \"banana\", \"cherry\"]\n",
    "print(fruits[6])\n"
   ]
  }
 ],
 "metadata": {
  "kernelspec": {
   "display_name": "Python 3",
   "language": "python",
   "name": "python3"
  },
  "language_info": {
   "codemirror_mode": {
    "name": "ipython",
    "version": 3
   },
   "file_extension": ".py",
   "mimetype": "text/x-python",
   "name": "python",
   "nbconvert_exporter": "python",
   "pygments_lexer": "ipython3",
   "version": "3.12.5"
  }
 },
 "nbformat": 4,
 "nbformat_minor": 2
}
