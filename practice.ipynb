{
 "cells": [
  {
   "cell_type": "code",
   "execution_count": 33,
   "metadata": {},
   "outputs": [
    {
     "name": "stdout",
     "output_type": "stream",
     "text": [
      "['kiwi']\n"
     ]
    }
   ],
   "source": [
    "fruits = [\"apple\", \"banana\", \"cherry\", \"kiwi\", \"mango\"]\n",
    "newlist = [x for x in fruits if \"i\" in x]\n",
    "print(newlist)\n",
    "\n",
    "#ye list mien se ek item ko print krwane k liye ha like if we put i in \"i\" then only kiwi will be printed\n"
   ]
  },
  {
   "cell_type": "code",
   "execution_count": null,
   "metadata": {},
   "outputs": [],
   "source": []
  },
  {
   "cell_type": "code",
   "execution_count": 34,
   "metadata": {},
   "outputs": [
    {
     "name": "stdout",
     "output_type": "stream",
     "text": [
      "apple\n",
      "banana\n",
      "cherry\n",
      "kiwi\n",
      "mango\n",
      "khatam hugya ha bhai!\n"
     ]
    }
   ],
   "source": [
    "fruits = [\"apple\", \"banana\", \"cherry\", \"kiwi\", \"mango\"]\n",
    "for fruit in fruits:\n",
    "    print(fruit)\n",
    "else:\n",
    "    print(\"khatam hugya ha bhai!\")"
   ]
  },
  {
   "cell_type": "code",
   "execution_count": 35,
   "metadata": {},
   "outputs": [
    {
     "name": "stdout",
     "output_type": "stream",
     "text": [
      "x is greater than 5\n"
     ]
    }
   ],
   "source": [
    "x =10\n",
    "if x>5:\n",
    "    print(\"x is greater than 5\")\n",
    "x =x+1"
   ]
  },
  {
   "cell_type": "code",
   "execution_count": 36,
   "metadata": {},
   "outputs": [
    {
     "ename": "ValueError",
     "evalue": "invalid literal for int() with base 10: ''",
     "output_type": "error",
     "traceback": [
      "\u001b[1;31m---------------------------------------------------------------------------\u001b[0m",
      "\u001b[1;31mValueError\u001b[0m                                Traceback (most recent call last)",
      "Cell \u001b[1;32mIn[36], line 1\u001b[0m\n\u001b[1;32m----> 1\u001b[0m x:\u001b[38;5;28mint\u001b[39m \u001b[38;5;241m=\u001b[39m \u001b[38;5;28;43mint\u001b[39;49m\u001b[43m(\u001b[49m\u001b[38;5;28;43minput\u001b[39;49m\u001b[43m(\u001b[49m\u001b[38;5;124;43m\"\u001b[39;49m\u001b[38;5;124;43menter ur number\u001b[39;49m\u001b[38;5;124;43m\"\u001b[39;49m\u001b[43m)\u001b[49m\u001b[43m)\u001b[49m\n\u001b[0;32m      2\u001b[0m \u001b[38;5;28;01mif\u001b[39;00m x \u001b[38;5;241m%\u001b[39m\u001b[38;5;241m2\u001b[39m\u001b[38;5;241m==\u001b[39m\u001b[38;5;241m0\u001b[39m :\n\u001b[0;32m      3\u001b[0m     \u001b[38;5;28mprint\u001b[39m(\u001b[38;5;124m\"\u001b[39m\u001b[38;5;124mx is even\u001b[39m\u001b[38;5;124m\"\u001b[39m)\n",
      "\u001b[1;31mValueError\u001b[0m: invalid literal for int() with base 10: ''"
     ]
    }
   ],
   "source": [
    "x:int = int(input(\"enter ur number\"))\n",
    "if x %2==0 :\n",
    "    print(\"x is even\")\n",
    "else:\n",
    "    print(\"x is not even\")"
   ]
  },
  {
   "cell_type": "code",
   "execution_count": 10,
   "metadata": {},
   "outputs": [
    {
     "name": "stdout",
     "output_type": "stream",
     "text": [
      "y is greater than 10\n"
     ]
    }
   ],
   "source": [
    "y =int(input(\"enter ur number from 1 to 10\"))\n",
    "if y>10:\n",
    "    print(\"y is greater than 10\")\n",
    "elif y==10:\n",
    "    print(\"y is equal to 10\")\n",
    "else:\n",
    "    print(\"y is less than 10\")\n"
   ]
  },
  {
   "cell_type": "code",
   "execution_count": 11,
   "metadata": {},
   "outputs": [
    {
     "name": "stdout",
     "output_type": "stream",
     "text": [
      "x is greater than 5 but y is not\n"
     ]
    }
   ],
   "source": [
    "x: int = 10\n",
    "y: int = 5 #declare krdiya ha dono variables ko \n",
    "\n",
    "if x > 5:\n",
    "    if y > 5: # if statement mien ek or if diya ha y k liye\n",
    "        print(\"x and y are both greater than 5\")\n",
    "    else:\n",
    "        print(\"x is greater than 5 but y is not\")\n",
    "elif x == 5 and y == 5:  # Combining two conditions using 'and'.... and use krna ha 2 conditions pass krne k liye elif mien \n",
    "    print(\"x and y are both equal to 5\")\n",
    "else:\n",
    "    print(\"x is less than 5 or y is not equal to 5\")\n"
   ]
  },
  {
   "cell_type": "code",
   "execution_count": 12,
   "metadata": {},
   "outputs": [
    {
     "name": "stdout",
     "output_type": "stream",
     "text": [
      "<class 'float'>\n",
      "<class 'str'>\n",
      "<class 'int'>\n"
     ]
    }
   ],
   "source": [
    "x = 100\n",
    "y = \"warad\"\n",
    "z = 79.2\n",
    "print(type(z))\n",
    "print(type(y))\n",
    "print(type(x))"
   ]
  },
  {
   "cell_type": "code",
   "execution_count": 22,
   "metadata": {},
   "outputs": [
    {
     "name": "stdout",
     "output_type": "stream",
     "text": [
      "biro ! teri percentage 88 ha or tera grade A ha  penguin ha tu\n"
     ]
    }
   ],
   "source": [
    "from typing import Union,Optional\n",
    "per : Union[int, float] = int(input(\"enter ur percentage:\"))\n",
    "grade: Optional[None] = None \n",
    "\n",
    "if per>=90:\n",
    "   grade =\"A+\"\n",
    "elif per>=80:\n",
    "    grade =\"A\"\n",
    "elif per>=70:\n",
    "    grade=\"B\"\n",
    "elif per>=60:\n",
    "    grade =\"C\"\n",
    "elif per>=50:\n",
    "    grade = \"D\"\n",
    "elif per>=40:\n",
    "    grade = \"E\"\n",
    "elif per>=33:\n",
    "    grade =\"E+\"\n",
    "else:\n",
    "    grade =\"F\"\n",
    "\n",
    "print(f\"biro ! teri percentage {per} ha or tera grade {grade} ha \" ,\"penguin ha tu\")\n",
    "if per<33:\n",
    "    print(f\"biro !! tu fail ha teri percentage {per} or tera grade {grade} ha ... parhle bhai \")"
   ]
  },
  {
   "cell_type": "code",
   "execution_count": 23,
   "metadata": {},
   "outputs": [
    {
     "name": "stdout",
     "output_type": "stream",
     "text": [
      "Alice is 25 years old\n",
      "Bob is 30 years old\n",
      "Charlie is 35 years old\n"
     ]
    }
   ],
   "source": [
    "names: list[str] = [\"Alice\", \"Bob\", \"Charlie\"]\n",
    "ages: list[int] = [25, 30, 35]\n",
    "\n",
    "zipped = zip(names, ages)\n",
    "for name, age in zipped:\n",
    "    print(f\"{name} is {age} years old\")\n"
   ]
  },
  {
   "cell_type": "code",
   "execution_count": 32,
   "metadata": {},
   "outputs": [
    {
     "data": {
      "text/plain": [
       "[('banana', 'yellow'), ('apple', 'red'), ('cherry', 'red')]"
      ]
     },
     "execution_count": 32,
     "metadata": {},
     "output_type": "execute_result"
    }
   ],
   "source": [
    "fruits = [\"apple\", \"banana\", \"cherry\"]\n",
    "color =[\"red\",'yellow',\"red\"]\n",
    "new_list =list(zip(fruits,color))\n",
    "sorted(new_list,key = lambda x:x[1], reverse=True)"
   ]
  },
  {
   "cell_type": "code",
   "execution_count": 38,
   "metadata": {},
   "outputs": [
    {
     "data": {
      "text/plain": [
       "True"
      ]
     },
     "execution_count": 38,
     "metadata": {},
     "output_type": "execute_result"
    }
   ],
   "source": [
    "fruits:list[str] = [\"apple\", \"banana\", \"cherry\"]\n",
    "\"apple\" in fruits"
   ]
  }
 ],
 "metadata": {
  "kernelspec": {
   "display_name": "Python 3",
   "language": "python",
   "name": "python3"
  },
  "language_info": {
   "codemirror_mode": {
    "name": "ipython",
    "version": 3
   },
   "file_extension": ".py",
   "mimetype": "text/x-python",
   "name": "python",
   "nbconvert_exporter": "python",
   "pygments_lexer": "ipython3",
   "version": "3.12.5"
  }
 },
 "nbformat": 4,
 "nbformat_minor": 2
}
