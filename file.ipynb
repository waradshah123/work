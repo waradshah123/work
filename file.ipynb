{
 "cells": [
  {
   "cell_type": "code",
   "execution_count": 9,
   "metadata": {},
   "outputs": [
    {
     "name": "stdout",
     "output_type": "stream",
     "text": [
      "5\n"
     ]
    }
   ],
   "source": [
    "def subtract(a: int, b: int) -> int:\n",
    "    return a - b\n",
    "\n",
    "a = int(input(\"Enter your number: \"))\n",
    "b = int(input(\"Enter your number: \"))\n",
    "result = subtract(a, b)\n",
    "print(result)"
   ]
  },
  {
   "cell_type": "code",
   "execution_count": null,
   "metadata": {},
   "outputs": [
    {
     "name": "stdout",
     "output_type": "stream",
     "text": [
      "5\n"
     ]
    }
   ],
   "source": [
    "def subtract(a: int, b: int) -> int:\n",
    "    return a - b \n",
    "\n",
    "result: int = subtract(10, 5)\n",
    "print(result)  # Output: 5"
   ]
  },
  {
   "cell_type": "code",
   "execution_count": 4,
   "metadata": {},
   "outputs": [
    {
     "name": "stdout",
     "output_type": "stream",
     "text": [
      "Before function call: 140709910350520\n",
      "Inside function (before modification): 140709910350520\n",
      "Inside function (after modification): 140709910350552\n",
      "After function call: 140709910350520\n"
     ]
    }
   ],
   "source": [
    "def modify_value(num: int):\n",
    "    print(\"Inside function (before modification):\", id(num))\n",
    "    num = 10\n",
    "    print(\"Inside function (after modification):\", id(num))\n",
    "\n",
    "x = 9\n",
    "print(\"Before function call:\", id(x))\n",
    "modify_value(x)\n",
    "print(\"After function call:\", id(x))"
   ]
  },
  {
   "cell_type": "code",
   "execution_count": 5,
   "metadata": {},
   "outputs": [
    {
     "name": "stdout",
     "output_type": "stream",
     "text": [
      "Before function call: 1925059916352\n",
      "Inside function (before modification): 1925059916352\n",
      "Inside function (after modification): 1925059916352\n",
      "After function call: 1925059916352\n"
     ]
    }
   ],
   "source": [
    "def modify_list(lst: list):\n",
    "    print(\"Inside function (before modification):\", id(lst))\n",
    "    lst.append(4)\n",
    "    print(\"Inside function (after modification):\", id(lst))\n",
    "\n",
    "my_list = [1, 2, 3]\n",
    "print(\"Before function call:\", id(my_list))\n",
    "modify_list(my_list)\n",
    "print(\"After function call:\", id(my_list))"
   ]
  },
  {
   "cell_type": "code",
   "execution_count": 6,
   "metadata": {},
   "outputs": [
    {
     "name": "stdout",
     "output_type": "stream",
     "text": [
      "Before modification: [1, 2, 3] id: 1925059889472\n",
      "After modification: [1, 2, 3, 4] id: 1925059889472\n"
     ]
    }
   ],
   "source": [
    "my_list = [1, 2, 3]\n",
    "print(\"Before modification:\", my_list, \"id:\", id(my_list))\n",
    "my_list.append(4)\n",
    "print(\"After modification:\", my_list, \"id:\", id(my_list))"
   ]
  },
  {
   "cell_type": "code",
   "execution_count": 7,
   "metadata": {},
   "outputs": [
    {
     "name": "stdout",
     "output_type": "stream",
     "text": [
      "Before modification: hello id: 1925039464992\n",
      "After modification: hello world id: 1925059895216\n"
     ]
    }
   ],
   "source": [
    "my_string = \"hello\"\n",
    "print(\"Before modification:\", my_string, \"id:\", id(my_string))\n",
    "my_string = my_string + \" world\"\n",
    "print(\"After modification:\", my_string, \"id:\", id(my_string))"
   ]
  },
  {
   "cell_type": "code",
   "execution_count": null,
   "metadata": {},
   "outputs": [
    {
     "name": "stdout",
     "output_type": "stream",
     "text": [
      "Caught an IndexError: list index out of range\n"
     ]
    }
   ],
   "source": [
    "try:\n",
    "    my_list = [1, 2, 3]\n",
    "    print(my_list[3])  # This will raise an IndexError\n",
    "except IndexError as e:\n",
    "    print(\"Caught an IndexError:\", str(e))"
   ]
  },
  {
   "cell_type": "code",
   "execution_count": 13,
   "metadata": {},
   "outputs": [
    {
     "name": "stdout",
     "output_type": "stream",
     "text": [
      "Result: 3.0\n"
     ]
    }
   ],
   "source": [
    "try:\n",
    "    num1 = int(input(\"Enter any number: \"))\n",
    "    num2 = int(input(\"Enter any number: \"))\n",
    "    division = num1 / num2  # Perform the division operation inside the try block\n",
    "    print(\"Result:\", division)\n",
    "except ZeroDivisionError as e:\n",
    "    print(\"ERROR! Division by zero is not allowed:\", str(e))\n",
    "except ValueError as e:\n",
    "    print(\"ERROR! Please enter a valid number:\", str(e))\n"
   ]
  }
 ],
 "metadata": {
  "kernelspec": {
   "display_name": "Python 3",
   "language": "python",
   "name": "python3"
  },
  "language_info": {
   "codemirror_mode": {
    "name": "ipython",
    "version": 3
   },
   "file_extension": ".py",
   "mimetype": "text/x-python",
   "name": "python",
   "nbconvert_exporter": "python",
   "pygments_lexer": "ipython3",
   "version": "3.12.5"
  }
 },
 "nbformat": 4,
 "nbformat_minor": 2
}
