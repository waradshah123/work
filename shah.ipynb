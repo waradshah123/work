{
 "cells": [
  {
   "cell_type": "code",
   "execution_count": 1,
   "metadata": {},
   "outputs": [
    {
     "name": "stdout",
     "output_type": "stream",
     "text": [
      "{'age': '18', 'name': ' warad shah'}\n",
      "{'age': '18', 'name': ' warad shah', 'roll no ': '41', 1: 45}\n",
      "{'roll no ': '41'}\n"
     ]
    }
   ],
   "source": [
    "from typing import Dict,Union\n",
    "dict_my:Dict[str,Union[str,list,int]]={\"age\":\"18\",\"name\":\" warad shah\"}\n",
    "print(dict_my)\n",
    "dict_my.get('name')\n",
    "dict_my['roll no ']=\"41\"\n",
    "dict_my[1]=45\n",
    "print(dict_my)\n",
    "dict_my.clear()\n",
    "dict_my['roll no ']=\"41\"\n",
    "print(dict_my)\n"
   ]
  },
  {
   "cell_type": "markdown",
   "metadata": {},
   "source": [
    "Dictionary is a data type with keys and values separated by commas and keys are given values using colon\n"
   ]
  },
  {
   "cell_type": "code",
   "execution_count": 32,
   "metadata": {},
   "outputs": [
    {
     "name": "stdout",
     "output_type": "stream",
     "text": [
      "{0: 0, 1: 1, 2: 256, 3: 6561, 4: 65536, 5: 390625, 6: 1679616, 7: 5764801, 8: 16777216, 9: 43046721}\n"
     ]
    }
   ],
   "source": [
    "squared_number= {i:i**8 for i in range(10)}\n",
    "print(squared_number)"
   ]
  },
  {
   "cell_type": "code",
   "execution_count": 53,
   "metadata": {},
   "outputs": [
    {
     "name": "stdout",
     "output_type": "stream",
     "text": [
      "{'age': '18', 'name': 'Warad Shah', 'education': 'Inter'}\n"
     ]
    }
   ],
   "source": [
    "dict_my = {\n",
    "    \"age\": 25,\n",
    "    \"name\": \"John Doe\",\n",
    "    \"education\": \"Bachelor's\"\n",
    "}\n",
    "\n",
    "# Correct usage of update method\n",
    "dict_my.update(age=\"18\", name=\"Warad Shah\", education=\"Inter\")\n",
    "print(dict_my)\n",
    "\n"
   ]
  },
  {
   "cell_type": "code",
   "execution_count": null,
   "metadata": {},
   "outputs": [],
   "source": []
  }
 ],
 "metadata": {
  "kernelspec": {
   "display_name": "Python 3",
   "language": "python",
   "name": "python3"
  },
  "language_info": {
   "codemirror_mode": {
    "name": "ipython",
    "version": 3
   },
   "file_extension": ".py",
   "mimetype": "text/x-python",
   "name": "python",
   "nbconvert_exporter": "python",
   "pygments_lexer": "ipython3",
   "version": "3.12.5"
  }
 },
 "nbformat": 4,
 "nbformat_minor": 2
}
