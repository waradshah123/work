{
 "cells": [
  {
   "cell_type": "code",
   "execution_count": 2,
   "metadata": {},
   "outputs": [
    {
     "name": "stdout",
     "output_type": "stream",
     "text": [
      "1\n",
      "5\n",
      "9\n",
      "13\n",
      "17\n",
      "21\n",
      "25\n",
      "29\n"
     ]
    }
   ],
   "source": [
    "for i in range(1,30,4):\n",
    "    print(i)"
   ]
  },
  {
   "cell_type": "code",
   "execution_count": null,
   "metadata": {},
   "outputs": [],
   "source": [
    "guest_list=[\"warad\",\"mahad\",\"baba g\",\"abu g\"]\n",
    "guest_list.pop(3)\n",
    "print(guest_list)"
   ]
  },
  {
   "cell_type": "code",
   "execution_count": null,
   "metadata": {},
   "outputs": [],
   "source": [
    "guest_list=[\"warad\",\"mahad\",\"baba g\",\"abu g\"]\n",
    "guest_list.append(\"chacho g\")\n",
    "print(guest_list)"
   ]
  },
  {
   "cell_type": "code",
   "execution_count": 9,
   "metadata": {},
   "outputs": [
    {
     "name": "stdout",
     "output_type": "stream",
     "text": [
      "['warad', 'baba g', 'abu g']\n"
     ]
    }
   ],
   "source": [
    "guest_list=[\"warad\",\"mahad\",\"baba g\",\"abu g\"]\n",
    "guest_list.remove(\"mahad\")\n",
    "print(guest_list)"
   ]
  },
  {
   "cell_type": "code",
   "execution_count": 14,
   "metadata": {},
   "outputs": [
    {
     "name": "stdout",
     "output_type": "stream",
     "text": [
      "['warad', 'mahad', 'baba g', 'abu g', 'c', 'h', 'a', 'c', 'h', 'o']\n"
     ]
    }
   ],
   "source": [
    "guest_list=[\"warad\",\"mahad\",\"baba g\",\"abu g\"]\n",
    "guest_list.extend(\"chacho\")\n",
    "print(guest_list)"
   ]
  },
  {
   "cell_type": "code",
   "execution_count": 19,
   "metadata": {},
   "outputs": [
    {
     "name": "stdout",
     "output_type": "stream",
     "text": [
      "['warad', 'chacho g', 'mahad', 'baba g', 'abu g']\n"
     ]
    }
   ],
   "source": [
    "guest_list=[\"warad\",\"mahad\",\"baba g\",\"abu g\"]\n",
    "guest_list.insert(-3 ,\"chacho g\")\n",
    "print(guest_list)"
   ]
  },
  {
   "cell_type": "code",
   "execution_count": 20,
   "metadata": {},
   "outputs": [
    {
     "name": "stdout",
     "output_type": "stream",
     "text": [
      "[]\n"
     ]
    }
   ],
   "source": [
    "guest_list=[\"warad\",\"mahad\",\"baba g\",\"abu g\"]\n",
    "guest_list.clear()\n",
    "print(guest_list)"
   ]
  },
  {
   "cell_type": "code",
   "execution_count": 29,
   "metadata": {},
   "outputs": [
    {
     "name": "stdout",
     "output_type": "stream",
     "text": [
      "index of abu g is: 3\n"
     ]
    }
   ],
   "source": [
    "guest_list=[\"warad\",\"mahad\",\"baba g\",\"abu g\"]\n",
    "index_of_abu_g=guest_list.index(\"abu g\")\n",
    "print(\"index of abu g is:\",guest_list.index(\"abu g\"))"
   ]
  },
  {
   "cell_type": "code",
   "execution_count": 32,
   "metadata": {},
   "outputs": [
    {
     "name": "stdout",
     "output_type": "stream",
     "text": [
      "1\n",
      "1\n",
      "1\n",
      "1\n"
     ]
    }
   ],
   "source": [
    "guest_list=[\"warad\",\"mahad\",\"baba g\",\"abu g\"]\n",
    "guest_list = [\"warad\", \"mahad\", \"baba g\", \"abu g\"]\n",
    "\n",
    "count_warad = guest_list.count(\"warad\")\n",
    "count_mahad = guest_list.count(\"mahad\")\n",
    "count_baba_g = guest_list.count(\"baba g\")\n",
    "count_abu_g = guest_list.count(\"abu g\")\n",
    "print(count_warad)\n",
    "print(count_mahad)\n",
    "print(count_baba_g)\n",
    "print(count_abu_g)"
   ]
  },
  {
   "cell_type": "code",
   "execution_count": 34,
   "metadata": {},
   "outputs": [
    {
     "name": "stdout",
     "output_type": "stream",
     "text": [
      "['abu g', 'baba g', 'mahad', 'warad']\n"
     ]
    }
   ],
   "source": [
    "guest_list=[\"warad\",\"mahad\",\"baba g\",\"abu g\"]\n",
    "guest_list.sort()\n",
    "print(guest_list)"
   ]
  },
  {
   "cell_type": "code",
   "execution_count": 37,
   "metadata": {},
   "outputs": [
    {
     "name": "stdout",
     "output_type": "stream",
     "text": [
      "['warad', 'mahad', 'baba g', 'abu g']\n"
     ]
    }
   ],
   "source": [
    "guest_list=['abu g', 'baba g', 'mahad', 'warad']\n",
    "guest_list.reverse()\n",
    "print(guest_list)"
   ]
  },
  {
   "cell_type": "code",
   "execution_count": 38,
   "metadata": {},
   "outputs": [
    {
     "name": "stdout",
     "output_type": "stream",
     "text": [
      "['abu g', 'baba g', 'mahad', 'warad']\n",
      "['abu g', 'baba g', 'mahad', 'warad']\n"
     ]
    }
   ],
   "source": [
    "guest_list=['abu g', 'baba g', 'mahad', 'warad']\n",
    "copied_list=guest_list.copy()\n",
    "print(guest_list)\n",
    "print(copied_list)"
   ]
  },
  {
   "cell_type": "code",
   "execution_count": 1,
   "metadata": {},
   "outputs": [
    {
     "name": "stdout",
     "output_type": "stream",
     "text": [
      "[]\n"
     ]
    }
   ],
   "source": [
    "guest_list=['abu g', 'baba g', 'mahad', 'warad']\n",
    "guest_list.clear()\n",
    "print(guest_list)"
   ]
  },
  {
   "cell_type": "code",
   "execution_count": 2,
   "metadata": {},
   "outputs": [
    {
     "data": {
      "text/plain": [
       "'warad'"
      ]
     },
     "execution_count": 2,
     "metadata": {},
     "output_type": "execute_result"
    }
   ],
   "source": [
    "guest_list=['abu g', 'baba g', 'mahad', 'warad']\n",
    "guest_list.pop(-1)"
   ]
  },
  {
   "cell_type": "code",
   "execution_count": 4,
   "metadata": {},
   "outputs": [
    {
     "name": "stdout",
     "output_type": "stream",
     "text": [
      "['abu g', 'baba g', 'mahad', 'warad', 'ok g']\n"
     ]
    }
   ],
   "source": [
    "guest_list=['abu g', 'baba g', 'mahad', 'warad']\n",
    "guest_list.append(\"ok g\")\n",
    "print(guest_list)"
   ]
  },
  {
   "cell_type": "code",
   "execution_count": 2,
   "metadata": {},
   "outputs": [
    {
     "name": "stdout",
     "output_type": "stream",
     "text": [
      "['abu g', 'baba g', 'chacho g', 'warad']\n"
     ]
    }
   ],
   "source": [
    "guest_list=['abu g', 'baba g', 'mahad', 'warad']\n",
    "guest_list.pop(2)\n",
    "guest_list.insert(2,\"chacho g\")\n",
    "print(guest_list)"
   ]
  },
  {
   "cell_type": "code",
   "execution_count": 4,
   "metadata": {},
   "outputs": [
    {
     "name": "stdout",
     "output_type": "stream",
     "text": [
      "abu g\n",
      "baba g\n",
      "mahad\n",
      "warad\n"
     ]
    }
   ],
   "source": [
    "guest_list=['abu g', 'baba g', 'mahad', 'warad']\n",
    "for name in guest_list:\n",
    "    print(name)"
   ]
  }
 ],
 "metadata": {
  "kernelspec": {
   "display_name": "Python 3",
   "language": "python",
   "name": "python3"
  },
  "language_info": {
   "codemirror_mode": {
    "name": "ipython",
    "version": 3
   },
   "file_extension": ".py",
   "mimetype": "text/x-python",
   "name": "python",
   "nbconvert_exporter": "python",
   "pygments_lexer": "ipython3",
   "version": "3.12.5"
  }
 },
 "nbformat": 4,
 "nbformat_minor": 2
}
