{
 "cells": [
  {
   "cell_type": "code",
   "execution_count": 3,
   "metadata": {},
   "outputs": [
    {
     "name": "stdout",
     "output_type": "stream",
     "text": [
      "{'name': 'warad', 'age': '18', 'course': 'gen ai'}\n",
      "{'name': 'warad', 'age': '18', 'course': 'gen ai', 'roll no': '41'}\n"
     ]
    }
   ],
   "source": [
    "from typing import Dict,Union\n",
    "my_dict:Dict[str,Union[str,list,int]]={\"name\":\"warad\",\"age\":\"18\",\"course\":\"gen ai\"}\n",
    "print(my_dict)\n",
    "my_dict['roll no'] =\"41\"\n",
    "print(my_dict)"
   ]
  },
  {
   "cell_type": "code",
   "execution_count": 4,
   "metadata": {},
   "outputs": [
    {
     "name": "stdout",
     "output_type": "stream",
     "text": [
      "{0: 0, 1: 1, 2: 8, 3: 27, 4: 64, 5: 125, 6: 216, 7: 343, 8: 512, 9: 729, 10: 1000, 11: 1331, 12: 1728, 13: 2197}\n"
     ]
    }
   ],
   "source": [
    "square ={i:i**3 for i in range(14)}\n",
    "print(square)"
   ]
  },
  {
   "cell_type": "code",
   "execution_count": 8,
   "metadata": {},
   "outputs": [
    {
     "name": "stdout",
     "output_type": "stream",
     "text": [
      "{'age': '17', 'name': 'nigga man', 'education': 'abhi b khaiton mien hi kam'}\n"
     ]
    }
   ],
   "source": [
    "my_dict = {\n",
    "    'age':'23',\n",
    "    \"name\":\"ghufran nigga\",\n",
    "    \"education\":\"khaiton mien kam\"\n",
    "  \n",
    "}\n",
    "my_dict.update(age=\"17\",name=\"nigga man\",education=\"abhi b khaiton mien hi kam\")\n",
    "print(my_dict)"
   ]
  },
  {
   "cell_type": "code",
   "execution_count": null,
   "metadata": {},
   "outputs": [],
   "source": []
  }
 ],
 "metadata": {
  "kernelspec": {
   "display_name": "Python 3",
   "language": "python",
   "name": "python3"
  },
  "language_info": {
   "codemirror_mode": {
    "name": "ipython",
    "version": 3
   },
   "file_extension": ".py",
   "mimetype": "text/x-python",
   "name": "python",
   "nbconvert_exporter": "python",
   "pygments_lexer": "ipython3",
   "version": "3.12.5"
  }
 },
 "nbformat": 4,
 "nbformat_minor": 2
}
