{
 "cells": [
  {
   "cell_type": "code",
   "execution_count": 13,
   "metadata": {},
   "outputs": [
    {
     "name": "stdout",
     "output_type": "stream",
     "text": [
      "CHERRY\n",
      "STRAWBRRY\n",
      "MANGO\n"
     ]
    }
   ],
   "source": [
    "fruits=[\"Cherry\",\"Strawbrry\",\"Mango\"]\n",
    "for fruit in  fruits:\n",
    " print(fruit.upper())"
   ]
  },
  {
   "cell_type": "code",
   "execution_count": 14,
   "metadata": {},
   "outputs": [
    {
     "name": "stdout",
     "output_type": "stream",
     "text": [
      "1\n",
      "2\n",
      "3\n",
      "4\n"
     ]
    }
   ],
   "source": [
    "for value in range(1, 5):\n",
    "    print(value)"
   ]
  },
  {
   "cell_type": "code",
   "execution_count": 15,
   "metadata": {},
   "outputs": [
    {
     "name": "stdout",
     "output_type": "stream",
     "text": [
      "1\n",
      "2\n",
      "3\n",
      "4\n",
      "5\n",
      "6\n",
      "7\n",
      "8\n",
      "9\n",
      "10\n",
      "11\n",
      "12\n",
      "13\n",
      "14\n",
      "15\n",
      "16\n",
      "17\n",
      "18\n",
      "19\n"
     ]
    }
   ],
   "source": [
    "for value in range(1, 20):\n",
    "    print(value)"
   ]
  },
  {
   "cell_type": "code",
   "execution_count": 20,
   "metadata": {},
   "outputs": [
    {
     "name": "stdout",
     "output_type": "stream",
     "text": [
      "Cherry\n",
      "warad\n",
      "Strawbrry\n",
      "warad\n",
      "Mango\n",
      "warad\n"
     ]
    }
   ],
   "source": [
    "for x in fruits:\n",
    "b    print(x)\n",
    "    print(\"warad\")\n",
    "\n"
   ]
  },
  {
   "cell_type": "code",
   "execution_count": null,
   "metadata": {},
   "outputs": [],
   "source": [
    "#range(start(default=0),end(we have to specify it),step(default=1))\n",
    "\n"
   ]
  },
  {
   "cell_type": "code",
   "execution_count": 29,
   "metadata": {},
   "outputs": [
    {
     "name": "stdout",
     "output_type": "stream",
     "text": [
      "0-WARAD\n",
      "5-WARAD\n",
      "10-WARAD\n",
      "15-WARAD\n"
     ]
    }
   ],
   "source": [
    "for x in range(0, 20,5):\n",
    "    print(f'{x}-WARAD')"
   ]
  },
  {
   "cell_type": "code",
   "execution_count": 33,
   "metadata": {},
   "outputs": [
    {
     "name": "stdout",
     "output_type": "stream",
     "text": [
      "0--bubloo \n",
      "3--bubloo \n",
      "6--bubloo \n",
      "9--bubloo \n",
      "12--bubloo \n"
     ]
    }
   ],
   "source": [
    "for k in range(0,14,3):\n",
    "    print(f\"{k}--ubloo \")"
   ]
  },
  {
   "cell_type": "code",
   "execution_count": 47,
   "metadata": {},
   "outputs": [
    {
     "name": "stdout",
     "output_type": "stream",
     "text": [
      "[1]\n",
      "[1, 4]\n",
      "[1, 4, 9]\n",
      "[1, 4, 9, 16]\n",
      "[1, 4, 9, 16, 25]\n",
      "[1, 4, 9, 16, 25, 36]\n",
      "[1, 4, 9, 16, 25, 36, 49]\n",
      "[1, 4, 9, 16, 25, 36, 49, 64]\n",
      "[1, 4, 9, 16, 25, 36, 49, 64, 81]\n"
     ]
    }
   ],
   "source": [
    "number = [1,2,3,4,5,6,7,8,9]\n",
    "squares = []\n",
    "for z in number:\n",
    "    z = z**2\n",
    "    squares.append(z)\n",
    "    print(squares)"
   ]
  },
  {
   "cell_type": "code",
   "execution_count": 51,
   "metadata": {},
   "outputs": [
    {
     "data": {
      "text/plain": [
       "[1, 4, 9, 16, 25, 36, 49, 64, 81]"
      ]
     },
     "execution_count": 51,
     "metadata": {},
     "output_type": "execute_result"
    }
   ],
   "source": [
    "[z**2 for z in number]"
   ]
  },
  {
   "cell_type": "code",
   "execution_count": 55,
   "metadata": {},
   "outputs": [
    {
     "name": "stdout",
     "output_type": "stream",
     "text": [
      "['Cherry', 'Strawbrry', 'Mango', 'grapes', 'pineapples', 'grapes', 'Potato']\n"
     ]
    }
   ],
   "source": [
    "fruits=[\"Cherry\",\"Strawbrry\",\"Mango\",\"grapes\",\"pineapples\",\"grapes\"]\n",
    "fruits.insert(6,\"Potato\")\n",
    "print(fruits)"
   ]
  },
  {
   "cell_type": "code",
   "execution_count": 62,
   "metadata": {},
   "outputs": [
    {
     "name": "stdout",
     "output_type": "stream",
     "text": [
      " hello !Cherry is very tasty\n",
      " hello !Strawbrry is very tasty\n",
      " hello !Mango is very tasty\n",
      " hello !grapes is very tasty\n",
      " hello !pineapples is very tasty\n",
      " hello !grapes is very tasty\n"
     ]
    }
   ],
   "source": [
    "fruits=[\"Cherry\",\"Strawbrry\",\"Mango\",\"grapes\",\"pineapples\",\"grapes\"]\n",
    "for fruit in fruits:\n",
    " print(f\" hello !{fruit} is very tasty\")"
   ]
  },
  {
   "cell_type": "code",
   "execution_count": 63,
   "metadata": {},
   "outputs": [
    {
     "name": "stdout",
     "output_type": "stream",
     "text": [
      "assalam o alaikum hazrat muhammad saw! My master I wanted to add you to have dinner with us tonight. Please I will be waiting for you.\n",
      "assalam o alaikum imam e ali a.s! My master I wanted to add you to have dinner with us tonight. Please I will be waiting for you.\n",
      "assalam o alaikum bibi fatima zehra a.s! My master I wanted to add you to have dinner with us tonight. Please I will be waiting for you.\n",
      "assalam o alaikum imam e hassan a.s! My master I wanted to add you to have dinner with us tonight. Please I will be waiting for you.\n",
      "assalam o alaikum imam e hussain a.s! My master I wanted to add you to have dinner with us tonight. Please I will be waiting for you.\n"
     ]
    }
   ],
   "source": [
    "names =[\"hazrat muhammad saw\",\"imam e ali a.s\",\"bibi fatima zehra a.s\",\"imam e hassan a.s\",\"imam e hussain a.s\"]\n",
    "for name in names:\n",
    "    invite = f\"assalam o alaikum {name}! My master I wanted to add you to have dinner with us tonight. Please I will be waiting for you.\"\n",
    "    print (invite)"
   ]
  },
  {
   "cell_type": "code",
   "execution_count": 65,
   "metadata": {},
   "outputs": [
    {
     "name": "stdout",
     "output_type": "stream",
     "text": [
      "['hazrat muhammad saw', 'imam e ali a.s', 'bibi fatima zehra a.s', 'imam e hassan a.s', 'imam e hussain a.s', 'nabi pak saw']\n"
     ]
    }
   ],
   "source": [
    "names =[\"hazrat muhammad saw\",\"imam e ali a.s\",\"bibi fatima zehra a.s\",\"imam e hassan a.s\",\"imam e hussain a.s\"]\n",
    "names.append(\"nabi pak saw\")\n",
    "print(names)"
   ]
  },
  {
   "cell_type": "code",
   "execution_count": 66,
   "metadata": {},
   "outputs": [
    {
     "name": "stdout",
     "output_type": "stream",
     "text": [
      "Unfortunately, fahar shah can't make it to the majlis.\n",
      "Unfortunately, mahad shah can't make it to the majlis.\n",
      "Unfortunately, konain shah can't make it to the majlis.\n"
     ]
    }
   ],
   "source": [
    "guest_list =[\"fahar shah\",\"mahad shah\",\"konain shah\",]\n",
    "for bhai in guest_list:\n",
    "    print(f\"Unfortunately, {bhai} can't make it to the majlis.\")"
   ]
  },
  {
   "cell_type": "code",
   "execution_count": 69,
   "metadata": {},
   "outputs": [
    {
     "ename": "ValueError",
     "evalue": "list.remove(x): x not in list",
     "output_type": "error",
     "traceback": [
      "\u001b[1;31m---------------------------------------------------------------------------\u001b[0m",
      "\u001b[1;31mValueError\u001b[0m                                Traceback (most recent call last)",
      "Cell \u001b[1;32mIn[69], line 2\u001b[0m\n\u001b[0;32m      1\u001b[0m guest_list \u001b[38;5;241m=\u001b[39m [\u001b[38;5;124m\"\u001b[39m\u001b[38;5;124mfahar shah\u001b[39m\u001b[38;5;124m\"\u001b[39m, \u001b[38;5;124m\"\u001b[39m\u001b[38;5;124mmahad shah\u001b[39m\u001b[38;5;124m\"\u001b[39m, \u001b[38;5;124m\"\u001b[39m\u001b[38;5;124mkonain shah\u001b[39m\u001b[38;5;124m\"\u001b[39m]\n\u001b[1;32m----> 2\u001b[0m \u001b[43mguest_list\u001b[49m\u001b[38;5;241;43m.\u001b[39;49m\u001b[43mremove\u001b[49m\u001b[43m(\u001b[49m\u001b[38;5;241;43m1\u001b[39;49m\u001b[43m)\u001b[49m\n\u001b[0;32m      3\u001b[0m guest\u001b[38;5;241m.\u001b[39mlist\u001b[38;5;241m.\u001b[39minsert(\u001b[38;5;241m1\u001b[39m,\u001b[38;5;124m\"\u001b[39m\u001b[38;5;124mhassan uncle\u001b[39m\u001b[38;5;124m\"\u001b[39m)\n\u001b[0;32m      4\u001b[0m \u001b[38;5;28mprint\u001b[39m (guest_list)\n",
      "\u001b[1;31mValueError\u001b[0m: list.remove(x): x not in list"
     ]
    }
   ],
   "source": [
    "guest_list = [\"fahar shah\", \"mahad shah\", \"konain shah\"]\n",
    "guest_list.remove(1)\n",
    "guest.list.insert(1,\"hassan uncle\")\n",
    "print (guest_list)"
   ]
  }
 ],
 "metadata": {
  "kernelspec": {
   "display_name": "Python 3",
   "language": "python",
   "name": "python3"
  },
  "language_info": {
   "codemirror_mode": {
    "name": "ipython",
    "version": 3
   },
   "file_extension": ".py",
   "mimetype": "text/x-python",
   "name": "python",
   "nbconvert_exporter": "python",
   "pygments_lexer": "ipython3",
   "version": "3.12.5"
  }
 },
 "nbformat": 4,
 "nbformat_minor": 2
}
